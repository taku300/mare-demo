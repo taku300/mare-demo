{
 "cells": [
  {
   "cell_type": "code",
   "execution_count": 4,
   "id": "bab6ecb4-247c-4109-8ac2-7b40e76f195f",
   "metadata": {},
   "outputs": [],
   "source": [
    "from linkedin_api import Linkedin\n",
    "LINKEDIN_ACCOUNT = 'fukuda.takuma695@mail.kyutech.jp'\n",
    "LINKEDIN_PWD = '300KgLifter'\n",
    "\n",
    "# URL: https://www.linkedin.com/in/yyyyy\n",
    "LINKEDIN_USER_ID = '匠磨-福田-33692332a'\n",
    "\n",
    "api = Linkedin(LINKEDIN_ACCOUNT, LINKEDIN_PWD)\n",
    "profile = api.get_profile(LINKEDIN_USER_ID)"
   ]
  },
  {
   "cell_type": "code",
   "execution_count": null,
   "id": "ef71f688-e1e5-4995-ad42-6f21e869f0be",
   "metadata": {},
   "outputs": [],
   "source": []
  }
 ],
 "metadata": {
  "kernelspec": {
   "display_name": "Python 3 (ipykernel)",
   "language": "python",
   "name": "python3"
  },
  "language_info": {
   "codemirror_mode": {
    "name": "ipython",
    "version": 3
   },
   "file_extension": ".py",
   "mimetype": "text/x-python",
   "name": "python",
   "nbconvert_exporter": "python",
   "pygments_lexer": "ipython3",
   "version": "3.12.1"
  }
 },
 "nbformat": 4,
 "nbformat_minor": 5
}

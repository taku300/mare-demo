{
 "cells": [
  {
   "cell_type": "code",
   "execution_count": 1,
   "metadata": {},
   "outputs": [],
   "source": [
    "from configs import const\n",
    "\n",
    "import os\n",
    "import getpass\n",
    "from neo4j import GraphDatabase\n",
    "from yfiles_jupyter_graphs import GraphWidget\n",
    "from langchain_core.runnables import RunnableLambda, RunnableParallel, RunnablePassthrough, ConfigurableField\n",
    "from langchain_core.prompts import ChatPromptTemplate\n",
    "from langchain_core.prompts.prompt import PromptTemplate\n",
    "from langchain_core.pydantic_v1 import BaseModel, Field\n",
    "from typing import List\n",
    "from langchain_core.output_parsers import StrOutputParser\n",
    "from langchain_community.graphs import Neo4jGraph\n",
    "from langchain.document_loaders import TextLoader\n",
    "from langchain.text_splitter import TokenTextSplitter\n",
    "from langchain_openai import ChatOpenAI\n",
    "from langchain_experimental.graph_transformers import LLMGraphTransformer\n",
    "from langchain_community.vectorstores import Neo4jVector\n",
    "from langchain_openai import OpenAIEmbeddings\n",
    "from langchain_community.vectorstores.neo4j_vector import remove_lucene_chars"
   ]
  },
  {
   "cell_type": "code",
   "execution_count": 2,
   "metadata": {},
   "outputs": [],
   "source": [
    "os.environ[\"OPENAI_API_KEY\"] = const.OPENAI_API_KEY\n",
    "os.environ[\"NEO4J_URI\"] = const.NEO4J_URI\n",
    "os.environ[\"NEO4J_USERNAME\"] = const.NEO4J_USERNAME\n",
    "os.environ[\"NEO4J_PASSWORD\"] = const.NEO4J_PASSWORD"
   ]
  },
  {
   "cell_type": "code",
   "execution_count": 3,
   "metadata": {},
   "outputs": [
    {
     "data": {
      "text/plain": [
       "Document(metadata={'source': '/Users/takuma.fukuda/Desktop/develop/mare-demo/data/kaiji.txt'}, page_content='賭博黙示録カイジ\\n\\n『賭博黙示録カイジ』（とばくもくしろくカイジ）は、福本伸行による日本の漫画。『週刊ヤングマガジン』（講談社）で1996年から連載された。\\n\\n続編として『賭博破戒録カイジ』（とばくはかいろくカイジ）、『賭博堕天録カイジ』（とばくだてんろくカイジ）、『賭博堕天録カイジ 和也編』、『賭博堕天録カイジ ワン・ポーカー編』が同誌に連載され、2017年からは『賭博堕天録カイジ 24億脱出編』と題して3勤1休のペースで連載している。なお、同誌目次では全シリーズ一貫して『カイジ』となっている。\\n\\n2019年6月時点でコミックスのシリーズ累計発行部数は2100万部を突破している[1]。\\n\\n本項では直接ストーリーが繋がっている続編であり、「賭博黙示録」と合わせて『カイジ』という一つの作品を')"
      ]
     },
     "execution_count": 3,
     "metadata": {},
     "output_type": "execute_result"
    }
   ],
   "source": [
    "# 一度実行するとグラフがクラウド上に保存されるので2回目以降は実行しない。\n",
    "\n",
    "# チャンク分けを行う（チャンクサイズ：512, オーバーラップ：125）\n",
    "raw_documents = TextLoader(const.DATA_PATH + 'kaiji.txt').load()\n",
    "text_splitter = TokenTextSplitter(chunk_size=512, chunk_overlap=125)\n",
    "documents = text_splitter.split_documents(raw_documents)\n",
    "documents[0]"
   ]
  },
  {
   "cell_type": "code",
   "execution_count": 5,
   "metadata": {},
   "outputs": [],
   "source": [
    "# 一度実行するとグラフがクラウド上に保存されるので2回目以降は実行しない。\n",
    "\n",
    "# グラフ形式のドキュメントに変換(結構時間がかかります)\n",
    "# gpt-4oにおいて20分かかりました\n",
    "llm=ChatOpenAI(temperature=0, model_name=\"gpt-4o\")\n",
    "llm_transformer = LLMGraphTransformer(llm=llm)\n",
    "# graph_documents = llm_transformer.convert_to_graph_documents(documents)\n",
    "\n",
    "# # neo4jのクラウド環境にアップロード\n",
    "graph = Neo4jGraph()\n",
    "# graph.add_graph_documents(\n",
    "#     graph_documents,\n",
    "#     baseEntityLabel=True,\n",
    "#     include_source=True\n",
    "# )"
   ]
  },
  {
   "cell_type": "code",
   "execution_count": 6,
   "metadata": {},
   "outputs": [],
   "source": [
    "# 与えられたCypherクエリの結果のグラフを直接表示する。\n",
    "# Cypherクエリは、グラフデータベース管理システムであるNeo4jで使用されるクエリ言語\n",
    "default_cypher = \"MATCH (s)-[r:!MENTIONS]->(t) RETURN s,r,t LIMIT 10000\"\n",
    "\n",
    "def showGraph(cypher: str = default_cypher):\n",
    "    # create a neo4j session to run queries\n",
    "    driver = GraphDatabase.driver(\n",
    "        uri = os.environ[\"NEO4J_URI\"],\n",
    "        auth = (os.environ[\"NEO4J_USERNAME\"],\n",
    "                os.environ[\"NEO4J_PASSWORD\"]))\n",
    "    session = driver.session()\n",
    "    widget = GraphWidget(graph = session.run(cypher).graph())\n",
    "    widget.node_label_mapping = 'id'\n",
    "    #display(widget)\n",
    "    return widget"
   ]
  },
  {
   "cell_type": "code",
   "execution_count": 7,
   "metadata": {},
   "outputs": [
    {
     "data": {
      "application/vnd.jupyter.widget-view+json": {
       "model_id": "50c2c99c19674a61a7f3ba08b4724743",
       "version_major": 2,
       "version_minor": 0
      },
      "text/plain": [
       "GraphWidget(layout=Layout(height='800px', width='100%'))"
      ]
     },
     "metadata": {},
     "output_type": "display_data"
    }
   ],
   "source": [
    "showGraph()"
   ]
  },
  {
   "cell_type": "code",
   "execution_count": 8,
   "metadata": {},
   "outputs": [
    {
     "name": "stderr",
     "output_type": "stream",
     "text": [
      "Received notification from DBMS server: {severity: WARNING} {code: Neo.ClientNotification.Statement.FeatureDeprecationWarning} {category: DEPRECATION} {title: This feature is deprecated and will be removed in future versions.} {description: The query used a deprecated procedure. ('db.create.setVectorProperty' has been replaced by 'db.create.setNodeVectorProperty')} {position: line: 1, column: 70, offset: 69} for query: \"UNWIND $data AS row MATCH (n:`Document`) WHERE elementId(n) = row.id CALL db.create.setVectorProperty(n, 'embedding', row.embedding) YIELD node RETURN count(*)\"\n"
     ]
    }
   ],
   "source": [
    "# グラフとドキュメントのハイブリットでvector_indexを構築\n",
    "vector_index = Neo4jVector.from_existing_graph(\n",
    "    OpenAIEmbeddings(),\n",
    "    search_type=\"hybrid\",\n",
    "    node_label=\"Document\",\n",
    "    text_node_properties=[\"text\"],\n",
    "    embedding_node_property=\"embedding\"\n",
    ")"
   ]
  },
  {
   "cell_type": "code",
   "execution_count": 9,
   "metadata": {},
   "outputs": [
    {
     "data": {
      "text/plain": [
       "[]"
      ]
     },
     "execution_count": 9,
     "metadata": {},
     "output_type": "execute_result"
    }
   ],
   "source": [
    "graph.query(\"CREATE FULLTEXT INDEX entity IF NOT EXISTS FOR (e:__Entity__) ON EACH [e.id]\")"
   ]
  },
  {
   "cell_type": "code",
   "execution_count": 10,
   "metadata": {},
   "outputs": [],
   "source": [
    "# Extract entities from text\n",
    "class Entities(BaseModel):\n",
    "    \"\"\"エンティティに関する情報を識別するためのクラス\"\"\"\n",
    "\n",
    "    names: List[str] = Field(\n",
    "        ...,\n",
    "        description=\"テキストに出現するすべての人物、組織、またはビジネスエンティティ\",\n",
    "    )"
   ]
  },
  {
   "cell_type": "code",
   "execution_count": 11,
   "metadata": {},
   "outputs": [],
   "source": [
    "prompt = ChatPromptTemplate.from_messages(\n",
    "    [\n",
    "        (\n",
    "            \"system\",\n",
    "            \"あなたはテキストから組織および人物のエンティティを抽出します。\",\n",
    "        ),\n",
    "        (\n",
    "            \"human\",\n",
    "            \"以下の入力から情報を抽出するために、指定された形式を使用してください: {question}\",\n",
    "        ),\n",
    "    ]\n",
    ")\n",
    "\n",
    "entity_chain = prompt | llm.with_structured_output(Entities)"
   ]
  },
  {
   "cell_type": "code",
   "execution_count": 12,
   "metadata": {},
   "outputs": [
    {
     "data": {
      "text/plain": [
       "['カイジ']"
      ]
     },
     "execution_count": 12,
     "metadata": {},
     "output_type": "execute_result"
    }
   ],
   "source": [
    "entity_chain.invoke({\"question\": \"カイジは豪遊した\"}).names"
   ]
  },
  {
   "cell_type": "code",
   "execution_count": 13,
   "metadata": {},
   "outputs": [],
   "source": [
    "# 以下の3つの関数を繋ぐことでグラフ検索、類似文書検索を行う\n",
    "\n",
    "def generate_full_text_query(input: str) -> str:\n",
    "    \"\"\"\n",
    "    入力から曖昧検索を行い関連するエンティティを抜き出す。\n",
    "    \"\"\"\n",
    "    full_text_query = \"\"\n",
    "    words = [el for el in remove_lucene_chars(input).split() if el]\n",
    "    for word in words[:-1]:\n",
    "        full_text_query += f\" {word}~2 AND\"\n",
    "    full_text_query += f\" {words[-1]}~2\"\n",
    "    return full_text_query.strip()\n",
    "\n",
    "def structured_retriever(question: str) -> str:\n",
    "    \"\"\"\n",
    "    generate_full_text_queryで抜き出したエンティティを元に曖昧検索を行い、関連する情報を抜き出す。\n",
    "    \"\"\"\n",
    "    result = \"\"\n",
    "    entities = entity_chain.invoke({\"question\": question})\n",
    "    for entity in entities.names:\n",
    "        response = graph.query(\n",
    "            \"\"\"CALL db.index.fulltext.queryNodes('entity', $query, {limit:20})\n",
    "            YIELD node,score\n",
    "            CALL {\n",
    "              WITH node\n",
    "              MATCH (node)-[r:!MENTIONS]->(neighbor)\n",
    "              RETURN node.id + ' - ' + type(r) + ' -> ' + neighbor.id AS output\n",
    "              UNION ALL\n",
    "              WITH node\n",
    "              MATCH (node)<-[r:!MENTIONS]-(neighbor)\n",
    "              RETURN neighbor.id + ' - ' + type(r) + ' -> ' +  node.id AS output\n",
    "            }\n",
    "            RETURN output LIMIT 1000\n",
    "            \"\"\",\n",
    "            {\"query\": generate_full_text_query(entity)},\n",
    "        )\n",
    "        result += \"\\n\".join([el['output'] for el in response])\n",
    "    return result\n",
    "\n",
    "def retriever(question: str):\n",
    "    \"\"\"\n",
    "    structured_retrieverで構造化データ（グラフ構造）から関連する情報を取得\n",
    "    similarity_searchで構造化データ（一般的な類似度による検索）から情報を取得\n",
    "    \"\"\"\n",
    "    print(f\"Search query: {question}\")\n",
    "    structured_data = structured_retriever(question)\n",
    "    unstructured_data = [el.page_content for el in vector_index.similarity_search(question)]\n",
    "    final_data = f\"\"\"Structured data:\n",
    "    {structured_data}\n",
    "    Unstructured data:\n",
    "    {\"#Document \". join(unstructured_data)}\n",
    "    \"\"\"\n",
    "    # print(final_data) # プロンプトを見たい時はこちらを実行\n",
    "    return final_data\n",
    "\n",
    "def retriever_only_unstructured(question: str):\n",
    "    \"\"\"\n",
    "    similarity_searchで構造化データ（一般的な類似度による検索）から情報を取得\n",
    "    \"\"\"\n",
    "    print(f\"Search query: {question}\")\n",
    "    unstructured_data = [el.page_content for el in vector_index.similarity_search(question)]\n",
    "    final_data = f\"\"\"Unstructured data:\n",
    "    {\"#Document \". join(unstructured_data)}\n",
    "    \"\"\"\n",
    "    # print(final_data) # プロンプトを見たい時はこちらを実行\n",
    "    return final_data"
   ]
  },
  {
   "cell_type": "code",
   "execution_count": 14,
   "metadata": {},
   "outputs": [],
   "source": [
    "# chainを作成する\n",
    "template = \"\"\"あなたは優秀なAIです。下記のコンテキストを利用してユーザーの質問に丁寧に答えてください。\n",
    "必ず文脈からわかる情報のみを使用して回答を生成してください。\n",
    "{context}\n",
    "\n",
    "ユーザーの質問: {question}\"\"\"\n",
    "\n",
    "prompt = ChatPromptTemplate.from_template(template)\n",
    "\n",
    "def mkchain(retriever, chat_prompt, llm):\n",
    "    \"\"\"\n",
    "    structured_retrieverで構造化データ（グラフ構造）から関連する情報を取得\n",
    "    similarity_searchで構造化データ（一般的な類似度による検索）から情報を取得\n",
    "    \"\"\"\n",
    "    # 引数として渡された関数を実行するためのラッパーを定義\n",
    "    # 入力の\"question\"を取得する\n",
    "    _search_query = RunnableLambda(lambda x: x[\"question\"])\n",
    "    chain = (\n",
    "        RunnableParallel(\n",
    "            {\n",
    "                \"context\": _search_query | retriever, # _search_queryでquestionを取り出し、retrieverを実行\n",
    "                \"question\": RunnablePassthrough(), # RunnablePassthrough入力を次のステップにそのまま渡す\n",
    "            }\n",
    "        )\n",
    "        | prompt # プロンプトを作成\n",
    "        | llm # LLMにプロンプトを渡して推論\n",
    "        | StrOutputParser() # 出力はそのまま文字列で返す\n",
    "    )\n",
    "    return chain"
   ]
  },
  {
   "cell_type": "markdown",
   "metadata": {},
   "source": [
    "# 実行結果"
   ]
  },
  {
   "cell_type": "code",
   "execution_count": 15,
   "metadata": {},
   "outputs": [],
   "source": [
    "input_data = {\"question\": \"カイジが嫌いな人は？\"}"
   ]
  },
  {
   "cell_type": "code",
   "execution_count": 16,
   "metadata": {},
   "outputs": [
    {
     "name": "stdout",
     "output_type": "stream",
     "text": [
      "Search query: カイジが嫌いな人は？\n",
      "カイジが嫌いな人については、文脈から以下の人物が挙げられます。\n",
      "\n",
      "1. **兵藤会長** - カイジは兵藤会長に対して宣戦布告し、最終的には彼に敗北しています。また、兵藤会長はカイジにとって真に倒すべき存在とされています。\n",
      "2. **利根川** - カイジは利根川と「Eカード」で対決し、極限の死闘を繰り広げました。\n",
      "3. **村岡** - カイジは村岡を倒していますが、彼との対立がありました。\n",
      "4. **和也** - カイジと和也は意見が対立し、激しい勝負を繰り広げました。\n",
      "\n",
      "これらの人物はカイジにとって敵対的な存在であり、嫌いな人と考えられます。\n"
     ]
    }
   ],
   "source": [
    "# Graph RAGの出力\n",
    "chain = mkchain(retriever, prompt, llm)\n",
    "result = chain.invoke(input_data)\n",
    "print(result)"
   ]
  },
  {
   "cell_type": "code",
   "execution_count": 17,
   "metadata": {},
   "outputs": [
    {
     "name": "stdout",
     "output_type": "stream",
     "text": [
      "Search query: カイジが嫌いな人は？\n",
      "Structured data:\n",
      "    カイジ - 制作 -> 日本テレビ\n",
      "カイジ - 実写映画化 -> カイジ 人生逆転ゲーム\n",
      "カイジ - ADAPTATION -> カイジ 人生逆転ゲーム\n",
      "カイジ - ADAPTATION -> カイジ2 人生奪回ゲーム\n",
      "カイジ - ADAPTATION -> カイジ ファイナルゲーム\n",
      "カイジ - ADAPTATION -> 動物世界\n",
      "カイジ - ADAPTATION -> カイジ 動物世界\n",
      "カイジ - RECEIVED -> 講談社漫画賞\n",
      "カイジ - INTERACTS_WITH -> 遠藤\n",
      "カイジ - PARTICIPATES_IN -> 鉄骨渡り\n",
      "カイジ - PARTICIPATES_IN -> ワン・ポーカー\n",
      "カイジ - OWES_DEBT -> 帝愛\n",
      "カイジ - GOES_TO -> エスポワール\n",
      "カイジ - GOES_TO -> スターサイドホテル\n",
      "カイジ - CHALLENGED -> 帝愛グループ\n",
      "カイジ - CHALLENGED -> 兵藤\n",
      "カイジ - CHALLENGED -> 利根川\n",
      "カイジ - CHALLENGED -> ティッシュ箱くじ引き\n",
      "カイジ - CHALLENGED -> 村岡\n",
      "カイジ - DECLARED_WAR -> 兵藤会長\n",
      "カイジ - LOST_TO -> 兵藤会長\n",
      "カイジ - LOST_AT -> スターサイドホテル\n",
      "カイジ - REQUESTED -> 遠藤\n",
      "カイジ - FORCED_LABOR -> 帝愛グループ\n",
      "カイジ - BELONGS_TO -> E班\n",
      "カイジ - DECEIVED -> 遠藤\n",
      "カイジ - DECEIVED -> 帝愛\n",
      "カイジ - MEMBER_OF -> E班\n",
      "カイジ - MEMBER_OF -> 45組\n",
      "カイジ - DEFEATED -> 大槻\n",
      "カイジ - DEFEATED -> 村岡\n",
      "カイジ - DEFEATED -> 和也\n",
      "カイジ - OBTAIN -> 6000万円\n",
      "カイジ - POSSESS -> 80万円\n",
      "カイジ - LEAVE -> 地下\n",
      "カイジ - DURATION -> 20日間\n",
      "カイジ - SEARCH -> 裏カジノ\n",
      "カイジ - MEET -> 坂崎\n",
      "カイジ - MEET -> チャン\n",
      "カイジ - MEET -> マリオ\n",
      "カイジ - CHALLENGE -> パチンコ台「沼」\n",
      "カイジ - CONCEIVE -> 攻略法\n",
      "カイジ - DEVISE -> 計画\n",
      "カイジ - INCLUDE -> 遠藤\n",
      "カイジ - COLLABORATE -> 遠藤\n",
      "カイジ - COLLABORATE -> 坂崎\n",
      "カイジ - COLLABORATED_WITH -> 遠藤\n",
      "カイジ - COLLABORATED_WITH -> 坂崎\n",
      "カイジ - RELEASED_FROM -> 地下施設\n",
      "カイジ - STAYED_AT -> 坂崎の家\n",
      "カイジ - RECEIVED_MONEY_FROM -> 坂崎\n",
      "カイジ - GAVE_MONEY -> 坂崎\n",
      "カイジ - VISITED -> 坂崎の家\n",
      "カイジ - VISITED -> レストラン\n",
      "カイジ - VISITED -> リサイクルショップ\n",
      "カイジ - PROMISED -> 坂崎\n",
      "カイジ - PARTICIPATED_IN -> 変則麻雀「17歩」\n",
      "カイジ - PARTICIPATED_IN -> 友情確認ゲーム\n",
      "カイジ - ASSISTED_BY -> 和也\n",
      "カイジ - WON -> 4億8000万円\n",
      "カイジ - WON -> 24億円\n",
      "カイジ - ACCEPTED -> 和也\n",
      "カイジ - DISAGREED_WITH -> 和也\n",
      "カイジ - OPPOSES -> 和也\n",
      "カイジ - COMPETES_WITH -> 和也\n",
      "カイジ - SAVES -> チャン\n",
      "カイジ - SAVES -> マリオ\n",
      "カイジ - TOOK -> リモコン\n",
      "カイジ - STOPPED -> 処刑\n",
      "カイジ - PAY -> 光山\n",
      "カイジ - ENTERED -> 暗証番号\n",
      "カイジ - PAID -> 賞金7045万円\n",
      "カイジ - RECEIVED_PIN_CODE_FROM -> 和也\n",
      "カイジ - PAID_MONEY_TO -> 光山\n",
      "カイジ - SAVED -> チャン\n",
      "カイジ - SAVED -> マリオ\n",
      "カイジ - ACCEPTED_HELP_FROM -> チャン\n",
      "カイジ - ACCEPTED_HELP_FROM -> マリオ\n",
      "カイジ - INCLUDED_IN_GROUP -> チャン\n",
      "カイジ - INCLUDED_IN_GROUP -> マリオ\n",
      "カイジ - VS -> 和也\n",
      "カイジ - LOST -> 4億円\n",
      "カイジ - CONVERTED -> 命\n",
      "カイジ - EXTENDED -> 和也\n",
      "カイジ - PARTICIPATED -> ワン・ポーカー\n",
      "カイジ - COMPETED_WITH -> 和也\n",
      "カイジ - RESCUED -> 和也\n",
      "カイジ - WON_AGAINST -> 和也\n",
      "カイジ - ESCAPED_FROM -> 帝愛\n",
      "カイジ - ESCAPED_FROM -> 団地\n",
      "カイジ - GAVE_MONEY_TO -> 坂崎\n",
      "カイジ - TRAVELED_WITH -> チャン\n",
      "カイジ - TRAVELED_WITH -> マリオ\n",
      "カイジ - HAS -> 現金23億円\n",
      "カイジ - STAYED -> 住宅街の空き家\n",
      "カイジ - BOUGHT -> キャンピングカー\n",
      "カイジ - BOUGHT_FROM -> 個人経営のディーラー\n",
      "カイジ - ASSOCIATE -> チャン\n",
      "カイジ - BORROWED_FROM -> 個人経営のディーラー\n",
      "カイジ - NAMED -> 地球のど真ん中号\n",
      "カイジ - VISIT -> 実家の団地\n",
      "カイジ - REUNITE -> 母\n",
      "カイジ - REUNITE -> 初江\n",
      "カイジ - AVOID -> 遠藤\n",
      "カイジ - ESCAPE -> 実家の団地\n",
      "カイジ - JOINED -> チャン\n",
      "カイジ - JOINED -> マリオ\n",
      "カイジ - DEPOSITED_MONEY -> 銀行\n",
      "カイジ - INFORMED -> チャン\n",
      "カイジ - INFORMED -> マリオ\n",
      "カイジ - BEFRIENDED -> キャンパー\n",
      "カイジ - CHASED_BY -> 帝愛負債者\n",
      "カイジ - USED -> 地球のど真ん中号\n",
      "カイジ - ENCOUNTERED -> 帝愛負債者\n",
      "カイジ - RECEIVED_HELP_FROM -> キャンパー\n",
      "カイジ - RECEIVED_HELP_FROM -> 石高\n",
      "カイジ - RECEIVED_HELP_FROM -> リサイクルショップの経営者\n",
      "カイジ - WELCOMED_AT -> 石高の自宅\n",
      "カイジ - EXCHANGED -> 石高のキャンピングカー\n",
      "カイジ - RECEIVED_ADVICE_FROM -> 木崎\n",
      "カイジ - RENTED -> 5Ldkの空家\n",
      "カイジ - USED_AS_ALARM -> リサイクルショップの経営者\n",
      "カイジ - CONTACTED -> リサイクルショップの経営者\n",
      "カイジ - RETURNED_TO -> アジト\n",
      "カイジ - ACQUIRED -> アジト\n",
      "カイジ - OPPOSED -> 帝愛\n",
      "カイジ - PLANNED_TRIP -> 鳥取の銀行\n",
      "カイジ - PLANNED_TRIP -> 島根の銀行\n",
      "賭博黙示録カイジ - 一部 -> カイジ\n",
      "賭博破戒録カイジ - 一部 -> カイジ\n",
      "賭博堕天録カイジ - 一部 -> カイジ\n",
      "賭博堕天録カイジ 和也編 - 一部 -> カイジ\n",
      "賭博堕天録カイジ ワン・ポーカー編 - 一部 -> カイジ\n",
      "賭博堕天録カイジ 24億脱出編 - 一部 -> カイジ\n",
      "伊藤開司 - 主人公 -> カイジ\n",
      "福本 - 作成 -> カイジ\n",
      "日本テレビ - 放送 -> カイジ\n",
      "伊藤開司 - CHARACTER -> カイジ\n",
      "和也 - CHALLENGED -> カイジ\n",
      "大槻 - DECEIVED -> カイジ\n",
      "45組の仲間達 - ENTRUST -> カイジ\n",
      "坂崎 - SUPPORT -> カイジ\n",
      "坂崎 - GAVE_MONEY -> カイジ\n",
      "三好 - VISITED -> カイジ\n",
      "前田 - VISITED -> カイジ\n",
      "三好 - CONSULTED -> カイジ\n",
      "前田 - CONSULTED -> カイジ\n",
      "和也 - HELPED -> カイジ\n",
      "和也 - OPPOSES -> カイジ\n",
      "和也 - COMPETES_WITH -> カイジ\n",
      "和也 - PROPOSED -> カイジ\n",
      "チャン - GRATEFUL_TO -> カイジ\n",
      "マリオ - GRATEFUL_TO -> カイジ\n",
      "チャン - OFFERED_HELP_TO -> カイジ\n",
      "マリオ - OFFERED_HELP_TO -> カイジ\n",
      "和也 - DISTRUSTS -> カイジ\n",
      "和也 - SPARED -> カイジ\n",
      "帝愛 - BOUNTY_ON -> カイジ\n",
      "カイジ達 - DEPOSIT -> 複数の銀行\n",
      "カイジ - ADAPTATION -> カイジ ファイナルゲーム\n",
      "カイジ - ADAPTATION -> カイジ 動物世界\n",
      "裏カジノ - CONTAIN -> パチンコ台「沼」\n",
      "裏カジノ - OWNED -> 村岡\n",
      "カイジ - SEARCH -> 裏カジノ\n",
      "帝愛グループ - OWN -> 裏カジノ\n",
      "一条 - MANAGE -> 裏カジノ\n",
      "賭博堕天録カイジ - 続編 -> 賭博黙示録カイジ\n",
      "賭博堕天録カイジ - 一部 -> カイジ\n",
      "賭博堕天録カイジ - INCLUDES -> 賭博堕天録カイジ 和也編\n",
      "賭博堕天録カイジ - INCLUDES -> 賭博堕天録カイジ ワン・ポーカー編\n",
      "賭博堕天録カイジ - INCLUDES -> 賭博堕天録カイジ 24億脱出編\n",
      "賭博黙示録カイジ - 作者 -> 福本伸行\n",
      "賭博黙示録カイジ - 連載 -> 週刊ヤングマガジン\n",
      "賭博黙示録カイジ - 一部 -> カイジ\n",
      "賭博破戒録カイジ - 続編 -> 賭博黙示録カイジ\n",
      "賭博堕天録カイジ - 続編 -> 賭博黙示録カイジ\n",
      "賭博堕天録カイジ 和也編 - 続編 -> 賭博黙示録カイジ\n",
      "賭博堕天録カイジ ワン・ポーカー編 - 続編 -> 賭博黙示録カイジ\n",
      "賭博堕天録カイジ 24億脱出編 - 続編 -> 賭博黙示録カイジ\n",
      "第2章「絶望の城」 - PART_OF -> 賭博黙示録カイジ\n",
      "賭博破戒録カイジ - 続編 -> 賭博黙示録カイジ\n",
      "賭博破戒録カイジ - 一部 -> カイジ\n",
      "第3章「欲望の沼」 - INCLUDED_IN -> 賭博破戒録カイジ\n",
      "カイジ 人生逆転ゲーム - シリーズ -> カイジ2 人生奪回ゲーム\n",
      "カイジ - 実写映画化 -> カイジ 人生逆転ゲーム\n",
      "カイジ - ADAPTATION -> カイジ 人生逆転ゲーム\n",
      "カイジ 人生逆転ゲーム - シリーズ -> カイジ2 人生奪回ゲーム\n",
      "カイジ - ADAPTATION -> カイジ2 人生奪回ゲーム\n",
      "遠藤 - LEADS -> カイジとチャンとマリオ捜索本部\n",
      "賭博堕天録カイジ 和也編 - 続編 -> 賭博黙示録カイジ\n",
      "賭博堕天録カイジ 和也編 - 一部 -> カイジ\n",
      "賭博堕天録カイジ - INCLUDES -> 賭博堕天録カイジ 和也編\n",
      "賭博堕天録カイジ ワン・ポーカー編 - 続編 -> 賭博黙示録カイジ\n",
      "賭博堕天録カイジ ワン・ポーカー編 - 一部 -> カイジ\n",
      "賭博堕天録カイジ - INCLUDES -> 賭博堕天録カイジ ワン・ポーカー編\n",
      "賭博堕天録カイジ 24億脱出編 - 続編 -> 賭博黙示録カイジ\n",
      "賭博堕天録カイジ 24億脱出編 - 一部 -> カイジ\n",
      "賭博堕天録カイジ - INCLUDES -> 賭博堕天録カイジ 24億脱出編\n",
      "    Unstructured data:\n",
      "    \n",
      "text: 人間の思考、生き様が描かれており、作品独自のギャンブルと、「ざわ‥ざわ‥」の擬音やモブキャラの「黒服」などの福本作品独自の表現が特徴である。\n",
      "\n",
      "元々は前後編の読み切りの予定だったが、福本がヤングマガジン編集部に限定ジャンケンのプロットを話したところで連載が決まり[2][出典無効]、その後、福本の最大のヒット作品になった。本作の大ヒットにより、それまで麻雀漫画家というイメージの強かった福本の名は一般にも大きく知られるようになった。\n",
      "\n",
      "映像作品ではテレビアニメが『逆境無頼カイジ』のタイトルで日本テレビで制作され、2007年10月に第1シーズンが、2011年4月から第2シーズンが放送された。また、2009年10月には『カイジ 人生逆転ゲーム』のタイトルで実写映画化もされた。映画は2011年11月に『カイジ2 人生奪回ゲーム』のタイトルでシリーズ2作目が公開（いずれも日本#Document \n",
      "text: れる。土壇場で裏切るのが人間の真実だと主張する和也と、必ずしもそんな人間ばかりではないはずだとそれを否定するカイジは激しく意見が対立。その言い合いを契機に、友情確認ゲーム「救出」による人間性の実験、カイジと和也の勝負が始まった。\n",
      "\n",
      "「救出」に挑むのは日本人の光山、中国人のチャン、フィリピン人のマリオのアジア3人組。3人は幾度となくピンチを迎えながらも成功を重ねるが、疑念と保身、友愛と自己愛を巡る死闘の末、光山の裏切りによって「救出」は終了。 その後、敗者となったチャンとマリオの処刑が行われる寸前、和也の元から思わず処刑実行ボタンのついたリモコンを奪いとったカイジは自身の判断で勝手に処刑の中止ボタンを押してしまう。しかしそのボタンだけでは処刑は止まらぬ仕組みになっており処刑を止めるためには暗証番�#Document \n",
      "text: ��で強制労働をさせられることになった。カイジは一日外出券を得るために金を貯めようとするが、所属するE班の班長・大槻の巧みな篭絡により金を使い果たす。大槻はさらにカイジに給料を前貸しし、自身の主催する「地下チンチロリン」に誘い込む。大槻に大敗を喫してさらなる借金生活に追い込まれるも、カイジは大槻のイカサマに気付き、自分と同じ境遇にある通称「45組」の5人と団結し、打倒大槻のために決起する。\n",
      "\n",
      "カイジら6人は協力して3か月の貧窮生活を耐え凌ぎ、地下チンチロで大勝負を仕掛け、カイジの奇策により大槻を倒し、外出に必要な資金を得たが、45組の仲間達はそれをカイジに託し、6人全員の借金返済に必要な6000万円を得ることを依頼した。単独で80万円の現金を持ち、地下から20日間の一時外�#Document \n",
      "text: ーサイドホテル」へと向かい、決死の勝負「鉄骨渡り」に挑む。\n",
      "\n",
      "多くの人間が転落死していく中、2度の鉄骨渡りをカイジは唯一成し遂げるが、途中でギブアップを要請したことを（結局受け入れられなかったにもかかわらず）、揚げ足を取るような形で主催者側に後から指摘され、賞金を得る権利を剥奪される。激昂するカイジの前に主催者である帝愛グループの会長・兵藤が現れ、「もう一度チャンスをやろう」と、これまでのギャンブルを仕切っていた大幹部・利根川と「Eカード」で対決することになる。\n",
      "\n",
      "カイジは極限の死闘を制すが、帝愛グループの最高幹部でありながらも、兵藤会長から簡単に切り捨てられた利根川の姿を見て、真に倒すべき存在は兵藤会長であることを痛感させられる。カイジは自身と、鉄骨渡りで死んでいった仲間達の無念を�\n",
      "    \n"
     ]
    }
   ],
   "source": [
    "# Graph RAGの最終的なプロンプトの確認\n",
    "prompt_result = retriever(input_data[\"question\"])\n",
    "print(prompt_result)"
   ]
  },
  {
   "cell_type": "code",
   "execution_count": 18,
   "metadata": {},
   "outputs": [
    {
     "name": "stdout",
     "output_type": "stream",
     "text": [
      "Search query: カイジが嫌いな人は？\n",
      "カイジが嫌いな人について、文脈からわかる情報を基にお答えします。\n",
      "\n",
      "カイジが嫌いな人物として挙げられるのは、帝愛グループの会長・兵藤です。カイジは「鉄骨渡り」や「Eカード」などの極限のギャンブルを通じて、兵藤会長が真に倒すべき存在であることを痛感しています。また、地下労働施設での班長・大槻もカイジにとって敵対する存在であり、彼の巧みな篭絡やイカサマによりカイジは苦しめられています。\n",
      "\n",
      "したがって、カイジが嫌いな人としては、兵藤会長と大槻が挙げられます。\n"
     ]
    }
   ],
   "source": [
    "# RAGの出力\n",
    "chain = mkchain(retriever_only_unstructured, prompt, llm)\n",
    "result = chain.invoke(input_data)\n",
    "print(result)"
   ]
  },
  {
   "cell_type": "code",
   "execution_count": 22,
   "metadata": {},
   "outputs": [
    {
     "name": "stdout",
     "output_type": "stream",
     "text": [
      "Search query: カイジが嫌いな人は？\n",
      "Unstructured data:\n",
      "    \n",
      "text: 人間の思考、生き様が描かれており、作品独自のギャンブルと、「ざわ‥ざわ‥」の擬音やモブキャラの「黒服」などの福本作品独自の表現が特徴である。\n",
      "\n",
      "元々は前後編の読み切りの予定だったが、福本がヤングマガジン編集部に限定ジャンケンのプロットを話したところで連載が決まり[2][出典無効]、その後、福本の最大のヒット作品になった。本作の大ヒットにより、それまで麻雀漫画家というイメージの強かった福本の名は一般にも大きく知られるようになった。\n",
      "\n",
      "映像作品ではテレビアニメが『逆境無頼カイジ』のタイトルで日本テレビで制作され、2007年10月に第1シーズンが、2011年4月から第2シーズンが放送された。また、2009年10月には『カイジ 人生逆転ゲーム』のタイトルで実写映画化もされた。映画は2011年11月に『カイジ2 人生奪回ゲーム』のタイトルでシリーズ2作目が公開（いずれも日本#Document \n",
      "text: れる。土壇場で裏切るのが人間の真実だと主張する和也と、必ずしもそんな人間ばかりではないはずだとそれを否定するカイジは激しく意見が対立。その言い合いを契機に、友情確認ゲーム「救出」による人間性の実験、カイジと和也の勝負が始まった。\n",
      "\n",
      "「救出」に挑むのは日本人の光山、中国人のチャン、フィリピン人のマリオのアジア3人組。3人は幾度となくピンチを迎えながらも成功を重ねるが、疑念と保身、友愛と自己愛を巡る死闘の末、光山の裏切りによって「救出」は終了。 その後、敗者となったチャンとマリオの処刑が行われる寸前、和也の元から思わず処刑実行ボタンのついたリモコンを奪いとったカイジは自身の判断で勝手に処刑の中止ボタンを押してしまう。しかしそのボタンだけでは処刑は止まらぬ仕組みになっており処刑を止めるためには暗証番�#Document \n",
      "text: ��で強制労働をさせられることになった。カイジは一日外出券を得るために金を貯めようとするが、所属するE班の班長・大槻の巧みな篭絡により金を使い果たす。大槻はさらにカイジに給料を前貸しし、自身の主催する「地下チンチロリン」に誘い込む。大槻に大敗を喫してさらなる借金生活に追い込まれるも、カイジは大槻のイカサマに気付き、自分と同じ境遇にある通称「45組」の5人と団結し、打倒大槻のために決起する。\n",
      "\n",
      "カイジら6人は協力して3か月の貧窮生活を耐え凌ぎ、地下チンチロで大勝負を仕掛け、カイジの奇策により大槻を倒し、外出に必要な資金を得たが、45組の仲間達はそれをカイジに託し、6人全員の借金返済に必要な6000万円を得ることを依頼した。単独で80万円の現金を持ち、地下から20日間の一時外�#Document \n",
      "text: ーサイドホテル」へと向かい、決死の勝負「鉄骨渡り」に挑む。\n",
      "\n",
      "多くの人間が転落死していく中、2度の鉄骨渡りをカイジは唯一成し遂げるが、途中でギブアップを要請したことを（結局受け入れられなかったにもかかわらず）、揚げ足を取るような形で主催者側に後から指摘され、賞金を得る権利を剥奪される。激昂するカイジの前に主催者である帝愛グループの会長・兵藤が現れ、「もう一度チャンスをやろう」と、これまでのギャンブルを仕切っていた大幹部・利根川と「Eカード」で対決することになる。\n",
      "\n",
      "カイジは極限の死闘を制すが、帝愛グループの最高幹部でありながらも、兵藤会長から簡単に切り捨てられた利根川の姿を見て、真に倒すべき存在は兵藤会長であることを痛感させられる。カイジは自身と、鉄骨渡りで死んでいった仲間達の無念を�\n",
      "    \n"
     ]
    }
   ],
   "source": [
    "# RAGの最終的なプロンプトの確認\n",
    "prompt_result = retriever_only_unstructured(input_data[\"question\"])\n",
    "print(prompt_result)"
   ]
  },
  {
   "cell_type": "code",
   "execution_count": null,
   "metadata": {},
   "outputs": [],
   "source": []
  },
  {
   "cell_type": "code",
   "execution_count": null,
   "metadata": {},
   "outputs": [],
   "source": []
  },
  {
   "cell_type": "code",
   "execution_count": null,
   "metadata": {},
   "outputs": [],
   "source": []
  },
  {
   "cell_type": "code",
   "execution_count": null,
   "metadata": {},
   "outputs": [],
   "source": []
  }
 ],
 "metadata": {
  "kernelspec": {
   "display_name": "Python 3 (ipykernel)",
   "language": "python",
   "name": "python3"
  },
  "language_info": {
   "codemirror_mode": {
    "name": "ipython",
    "version": 3
   },
   "file_extension": ".py",
   "mimetype": "text/x-python",
   "name": "python",
   "nbconvert_exporter": "python",
   "pygments_lexer": "ipython3",
   "version": "3.12.4"
  }
 },
 "nbformat": 4,
 "nbformat_minor": 4
}
